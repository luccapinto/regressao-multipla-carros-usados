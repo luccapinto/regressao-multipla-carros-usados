{
 "cells": [
  {
   "cell_type": "code",
   "execution_count": 1,
   "metadata": {
    "execution": {
     "iopub.execute_input": "2025-10-15T23:40:24.697086Z",
     "iopub.status.busy": "2025-10-15T23:40:24.696622Z",
     "iopub.status.idle": "2025-10-15T23:40:26.277466Z",
     "shell.execute_reply": "2025-10-15T23:40:26.275281Z"
    }
   },
   "outputs": [
    {
     "name": "stderr",
     "output_type": "stream",
     "text": [
      "/home/jules/.pyenv/versions/3.12.12/lib/python3.12/site-packages/tqdm/auto.py:21: TqdmWarning: IProgress not found. Please update jupyter and ipywidgets. See https://ipywidgets.readthedocs.io/en/stable/user_install.html\\n",
      "  from .autonotebook import tqdm as notebook_tqdm\\n"
     ]
    },
    {
     "name": "stderr",
     "output_type": "stream",
     "text": [
      "/tmp/ipykernel_2747/3551106545.py:13: DeprecationWarning: Use dataset_load() instead of load_dataset(). load_dataset() will be removed in a future version.\\n",
      "  df = kagglehub.load_dataset(\\n"
     ]
    },
    {
     "name": "stdout",
     "output_type": "stream",
     "text": [
      "Downloading from https://www.kaggle.com/api/v1/datasets/download/hellbuoy/car-price-prediction?dataset_version_number=1&file_name=CarPrice_Assignment.csv...\\n"
     ]
    },
    {
     "name": "stderr",
     "output_type": "stream",
     "text": [
      "\\r",
      "  0%|          | 0.00/26.1k [00:00<?, ?B/s]"
     ]
    },
    {
     "name": "stderr",
     "output_type": "stream",
     "text": [
      "\\r",
      "100%|██████████| 26.1k/26.1k [00:00<00:00, 19.0MB/s]"
     ]
    },
    {
     "name": "stdout",
     "output_type": "stream",
     "text": [
      "Primeiras 5 linhas do dataset:\\n",
      "   car_ID  symboling                   CarName fueltype aspiration doornumber  \\n",
      "0       1          3        alfa-romero giulia      gas        std        two   \\n",
      "1       2          3       alfa-romero stelvio      gas        std        two   \\n",
      "2       3          1  alfa-romero Quadrifoglio      gas        std        two   \\n",
      "3       4          2               audi 100 ls      gas        std       four   \\n",
      "4       5          2                audi 100ls      gas        std       four   \\n",
      "\\n",
      "       carbody drivewheel enginelocation  wheelbase  ...  enginesize  \\n",
      "0  convertible        rwd          front       88.6  ...         130   \\n",
      "1  convertible        rwd          front       88.6  ...         130   \\n",
      "2    hatchback        rwd          front       94.5  ...         152   \\n",
      "3        sedan        fwd          front       99.8  ...         109   \\n",
      "4        sedan        4wd          front       99.4  ...         136   \\n",
      "\\n",
      "   fuelsystem  boreratio  stroke compressionratio horsepower  peakrpm citympg  \\n",
      "0        mpfi       3.47    2.68              9.0        111     5000      21   \\n",
      "1        mpfi       3.47    2.68              9.0        111     5000      21   \\n",
      "2        mpfi       2.68    3.47              9.0        154     5000      19   \\n",
      "3        mpfi       3.19    3.40             10.0        102     5500      24   \\n",
      "4        mpfi       3.19    3.40              8.0        115     5500      18   \\n",
      "\\n",
      "   highwaympg    price  \\n",
      "0          27  13495.0  \\n",
      "1          27  16500.0  \\n",
      "2          26  16500.0  \\n",
      "3          30  13950.0  \\n",
      "4          22  17450.0  \\n",
      "\\n",
      "[5 rows x 26 columns]\\n",
      "\\n",
      "Tipos de dados das colunas:\\n",
      "<class 'pandas.core.frame.DataFrame'>\\n",
      "RangeIndex: 205 entries, 0 to 204\\n",
      "Data columns (total 26 columns):\\n",
      " #   Column            Non-Null Count  Dtype  \\n",
      "---  ------            --------------  -----  \\n",
      " 0   car_ID            205 non-null    int64  \\n",
      " 1   symboling         205 non-null    int64  \\n",
      " 2   CarName           205 non-null    object \\n",
      " 3   fueltype          205 non-null    object \\n",
      " 4   aspiration        205 non-null    object \\n",
      " 5   doornumber        205 non-null    object \\n",
      " 6   carbody           205 non-null    object \\n",
      " 7   drivewheel        205 non-null    object \\n",
      " 8   enginelocation    205 non-null    object \\n",
      " 9   wheelbase         205 non-null    float64\\n",
      " 10  carlength         205 non-null    float64\\n",
      " 11  carwidth          205 non-null    float64\\n",
      " 12  carheight         205 non-null    float64\\n",
      " 13  curbweight        205 non-null    int64  \\n",
      " 14  enginetype        205 non-null    object \\n",
      " 15  cylindernumber    205 non-null    object \\n",
      " 16  enginesize        205 non-null    int64  \\n",
      " 17  fuelsystem        205 non-null    object \\n",
      " 18  boreratio         205 non-null    float64\\n",
      " 19  stroke            205 non-null    float64\\n",
      " 20  compressionratio  205 non-null    float64\\n",
      " 21  horsepower        205 non-null    int64  \\n",
      " 22  peakrpm           205 non-null    int64  \\n",
      " 23  citympg           205 non-null    int64  \\n",
      " 24  highwaympg        205 non-null    int64  \\n",
      " 25  price             205 non-null    float64\\n",
      "dtypes: float64(8), int64(8), object(10)\\n",
      "memory usage: 41.8+ KB\\n",
      "\\n",
      "Contagem de valores nulos por coluna:\\n",
      "car_ID              0\\n",
      "symboling           0\\n",
      "CarName             0\\n",
      "fueltype            0\\n",
      "aspiration          0\\n",
      "doornumber          0\\n",
      "carbody             0\\n",
      "drivewheel          0\\n",
      "enginelocation      0\\n",
      "wheelbase           0\\n",
      "carlength           0\\n",
      "carwidth            0\\n",
      "carheight           0\\n",
      "curbweight          0\\n",
      "enginetype          0\\n",
      "cylindernumber      0\\n",
      "enginesize          0\\n",
      "fuelsystem          0\\n",
      "boreratio           0\\n",
      "stroke              0\\n",
      "compressionratio    0\\n",
      "horsepower          0\\n",
      "peakrpm             0\\n",
      "citympg             0\\n",
      "highwaympg          0\\n",
      "price               0\\n",
      "dtype: int64\\n"
     ]
    },
    {
     "name": "stderr",
     "output_type": "stream",
     "text": [
      "\\n"
     ]
    }
   ],
   "source": [
    "# Instalar dependências, se necessário:\\n",
    "# !pip install kagglehub pandas ipykernel\\n",
    "\\n",
    "import kagglehub\\n",
    "from kagglehub import KaggleDatasetAdapter\\n",
    "import pandas as pd\\n",
    "\\n",
    "# O kagglehub baixa e gerencia o dataset localmente.\\n",
    "# A primeira execução pode demorar um pouco para baixar os dados.\\n",
    "# Definir o caminho do arquivo dentro do dataset:\\n",
    "file_path = \\\"CarPrice_Assignment.csv\\\"\\n",
    "\\n",
    "df = kagglehub.load_dataset(\\n",
    "  KaggleDatasetAdapter.PANDAS,\\n",
    "  \\\"hellbuoy/car-price-prediction\\\",\\n",
    "  file_path\\n",
    ")\\n",
    "\\n",
    "# Inspecionar as primeiras linhas:\\n",
    "print(\\\"Primeiras 5 linhas do dataset:\\\")\\n",
    "print(df.head())\\n",
    "\\n",
    "# Verificar os tipos de dados:\\n",
    "print(\\\"\\\\nTipos de dados das colunas:\\\")\\n",
    "df.info()\\n",
    "\\n",
    "# Verificar valores nulos:\\n",
    "print(\\\"\\\\nContagem de valores nulos por coluna:\\\")\\n",
    "print(df.isnull().sum())"
   ]
  },
  {
   "cell_type": "markdown",
   "metadata": {},
   "source": [
    "## 2. Definição do Problema de Regressão\\n",
    "O objetivo central deste trabalho é construir um modelo de regressão linear múltipla para prever o preço de carros (`price`) com base em um conjunto de suas características. A análise buscará identificar quais variáveis têm maior impacto no preço e desenvolver um modelo que possa estimar o valor de um carro com a maior precisão possível."
   ]
  },
  {
   "cell_type": "markdown",
   "metadata": {},
   "source": [
    "### Variável Resposta (Y)\\n",
    "A variável resposta (Y) é o `price`, que representa o preço do carro."
   ]
  },
  {
   "cell_type": "markdown",
   "metadata": {},
   "source": [
    "### Variáveis Preditoras (X)\\n",
    "As seguintes variáveis preditoras (X) foram selecionadas para o modelo:\\n",
    "- `wheelbase` (distância entre eixos)\\n",
    "- `carlength` (comprimento do carro)\\n",
    "- `carwidth` (largura do carro)\\n",
    "- `horsepower` (cavalos de potência)\\n",
    "- `highwaympg` (consumo de combustível em milhas por galão na estrada)\\n",
    "- `fueltype` (tipo de combustível) - Variável categórica"
   ]
  },
  {
   "cell_type": "markdown",
   "metadata": {},
   "source": [
    "## 3.1 Dicionário de Variáveis\\n",
    "| Abreviação   | Nome Original/Descrição       | Tipo                          |\\n",
    "|--------------|-------------------------------|-------------------------------|\\n",
    "| `price`      | Preço do carro                | Contínua                      |\\n",
    "| `wheelbase`  | Distância entre eixos         | Contínua                      |\\n",
    "| `carlength`  | Comprimento do carro          | Contínua                      |\\n",
    "| `carwidth`   | Largura do carro              | Contínua                      |\\n",
    "| `horsepower` | Cavalos de potência           | Inteira                       |\\n",
    "| `highwaympg` | Consumo (milhas por galão)    | Inteira                       |\\n",
    "| `fueltype`   | Tipo de combustível (gas/diesel)| Categórica não ordinal        |"
   ]
  },
  {
   "cell_type": "markdown",
   "metadata": {},
   "source": [
    "### Variáveis Categóricas Codificadas como Números\\n",
    "A variável `symboling` é um exemplo de variável categórica que está codificada como um número. Ela representa uma classificação de risco de seguro (de -3 a +3), o que a torna uma variável categórica ordinal. Embora seja do tipo `int64`, ela deve ser tratada como categórica na modelagem para que o modelo possa interpretar seus valores como categorias distintas, e não como uma escala contínua."
   ]
  }
 ],
 "metadata": {
  "kernelspec": {
   "display_name": "Python 3",
   "language": "python",
   "name": "python3"
  },
  "language_info": {
   "codemirror_mode": {
    "name": "ipython",
    "version": 3
   },
   "file_extension": ".py",
   "mimetype": "text/x-python",
   "name": "python",
   "nbconvert_exporter": "python",
   "pygments_lexer": "ipython3",
   "version": "3.12.12"
  }
 },
 "nbformat": 4,
 "nbformat_minor": 4
}